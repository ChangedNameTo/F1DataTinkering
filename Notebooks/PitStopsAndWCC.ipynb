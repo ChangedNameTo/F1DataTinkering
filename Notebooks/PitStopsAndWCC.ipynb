{
 "cells": [
  {
   "cell_type": "code",
   "execution_count": 5,
   "metadata": {},
   "outputs": [],
   "source": [
    "import fastf1\n",
    "import fastf1.plotting\n",
    "import matplotlib.pyplot as plt\n",
    "import pandas as pd\n",
    "from fastf1.ergast import Ergast\n",
    "\n",
    "SEASON = 2022"
   ]
  },
  {
   "cell_type": "code",
   "execution_count": 6,
   "metadata": {},
   "outputs": [
    {
     "data": {
      "text/html": [
       "<div>\n",
       "<style scoped>\n",
       "    .dataframe tbody tr th:only-of-type {\n",
       "        vertical-align: middle;\n",
       "    }\n",
       "\n",
       "    .dataframe tbody tr th {\n",
       "        vertical-align: top;\n",
       "    }\n",
       "\n",
       "    .dataframe thead th {\n",
       "        text-align: right;\n",
       "    }\n",
       "</style>\n",
       "<table border=\"1\" class=\"dataframe\">\n",
       "  <thead>\n",
       "    <tr style=\"text-align: right;\">\n",
       "      <th></th>\n",
       "      <th>driverId</th>\n",
       "      <th>stop</th>\n",
       "      <th>lap</th>\n",
       "      <th>time</th>\n",
       "      <th>duration</th>\n",
       "      <th>round</th>\n",
       "      <th>race</th>\n",
       "    </tr>\n",
       "  </thead>\n",
       "  <tbody>\n",
       "    <tr>\n",
       "      <th>0</th>\n",
       "      <td>hamilton</td>\n",
       "      <td>1</td>\n",
       "      <td>11</td>\n",
       "      <td>18:21:54</td>\n",
       "      <td>0 days 00:00:25.201000</td>\n",
       "      <td>1</td>\n",
       "      <td>Bahrain</td>\n",
       "    </tr>\n",
       "    <tr>\n",
       "      <th>1</th>\n",
       "      <td>alonso</td>\n",
       "      <td>1</td>\n",
       "      <td>11</td>\n",
       "      <td>18:22:10</td>\n",
       "      <td>0 days 00:00:25.365000</td>\n",
       "      <td>1</td>\n",
       "      <td>Bahrain</td>\n",
       "    </tr>\n",
       "    <tr>\n",
       "      <th>2</th>\n",
       "      <td>mick_schumacher</td>\n",
       "      <td>1</td>\n",
       "      <td>12</td>\n",
       "      <td>18:24:08</td>\n",
       "      <td>0 days 00:00:25.214000</td>\n",
       "      <td>1</td>\n",
       "      <td>Bahrain</td>\n",
       "    </tr>\n",
       "    <tr>\n",
       "      <th>3</th>\n",
       "      <td>albon</td>\n",
       "      <td>1</td>\n",
       "      <td>13</td>\n",
       "      <td>18:25:47</td>\n",
       "      <td>0 days 00:00:24.874000</td>\n",
       "      <td>1</td>\n",
       "      <td>Bahrain</td>\n",
       "    </tr>\n",
       "    <tr>\n",
       "      <th>4</th>\n",
       "      <td>max_verstappen</td>\n",
       "      <td>1</td>\n",
       "      <td>14</td>\n",
       "      <td>18:26:43</td>\n",
       "      <td>0 days 00:00:24.897000</td>\n",
       "      <td>1</td>\n",
       "      <td>Bahrain</td>\n",
       "    </tr>\n",
       "  </tbody>\n",
       "</table>\n",
       "</div>"
      ],
      "text/plain": [
       "          driverId  stop  lap      time               duration  round     race\n",
       "0         hamilton     1   11  18:21:54 0 days 00:00:25.201000      1  Bahrain\n",
       "1           alonso     1   11  18:22:10 0 days 00:00:25.365000      1  Bahrain\n",
       "2  mick_schumacher     1   12  18:24:08 0 days 00:00:25.214000      1  Bahrain\n",
       "3            albon     1   13  18:25:47 0 days 00:00:24.874000      1  Bahrain\n",
       "4   max_verstappen     1   14  18:26:43 0 days 00:00:24.897000      1  Bahrain"
      ]
     },
     "execution_count": 6,
     "metadata": {},
     "output_type": "execute_result"
    }
   ],
   "source": [
    "ergast = Ergast()\n",
    "races = ergast.get_race_schedule(SEASON)\n",
    "results = []\n",
    "\n",
    "for rnd, race in races['raceName'].items():\n",
    "    temp = ergast.get_pit_stops(season=SEASON, round=rnd+1)\n",
    "    temp = temp.content[0]\n",
    "    \n",
    "    temp['round'] = rnd + 1\n",
    "    temp['race'] = race.removesuffix(' Grand Prix')\n",
    "    results.append(temp)\n",
    "\n",
    "results = pd.concat(results)\n",
    "results.head()"
   ]
  },
  {
   "cell_type": "code",
   "execution_count": 7,
   "metadata": {},
   "outputs": [
    {
     "data": {
      "text/plain": [
       "driverId             object\n",
       "stop                  int64\n",
       "lap                   int64\n",
       "time                 object\n",
       "duration    timedelta64[ns]\n",
       "round                 int64\n",
       "race                 object\n",
       "dtype: object"
      ]
     },
     "execution_count": 7,
     "metadata": {},
     "output_type": "execute_result"
    }
   ],
   "source": [
    "results.dtypes"
   ]
  }
 ],
 "metadata": {
  "kernelspec": {
   "display_name": "Python 3",
   "language": "python",
   "name": "python3"
  },
  "language_info": {
   "codemirror_mode": {
    "name": "ipython",
    "version": 3
   },
   "file_extension": ".py",
   "mimetype": "text/x-python",
   "name": "python",
   "nbconvert_exporter": "python",
   "pygments_lexer": "ipython3",
   "version": "3.10.5"
  },
  "orig_nbformat": 4
 },
 "nbformat": 4,
 "nbformat_minor": 2
}
